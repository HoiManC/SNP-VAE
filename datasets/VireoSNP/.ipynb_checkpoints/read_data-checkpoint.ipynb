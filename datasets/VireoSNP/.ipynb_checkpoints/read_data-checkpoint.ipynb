{
 "cells": [
  {
   "cell_type": "code",
   "execution_count": null,
   "id": "aab2ea37",
   "metadata": {},
   "outputs": [],
   "source": [
    "# This code reads AD matrix and DP matrix for inputs of VAE and visualization of VireoSNP dataset\n",
    "\n",
    "import torch\n",
    "import numpy as np\n",
    "\n",
    "import vireoSNP\n",
    "cell_vcf = vireoSNP.load_VCF(\"cells.cellSNP.vcf.gz\", biallelic_only = True)\n",
    "cell_dat = vireoSNP.vcf.read_sparse_GeneINFO(cell_vcf['GenoINFO'], keys = ['AD', 'DP'])\n",
    "AD = cell_dat['AD']\n",
    "DP = cell_dat['DP']\n",
    "\n",
    "threshold_var = 0\n",
    "SNP = AD / DP\n",
    "\n",
    "mean_matrix = np.outer(np.nanmean(SNP, 1), np.ones(SNP.shape[1]))\n",
    "nan = np.isnan(SNP)\n",
    "SNP[nan] = mean_matrix[nan]\n",
    "SNP = torch.tensor(SNP.T).float()\n",
    "\n",
    "gene_var = torch.var(torch.logit(SNP, eps = 0.01), 0).numpy()\n",
    "SNP = SNP[:, gene_var > threshold_var]\n",
    "depth = torch.tensor(DP.todense()[gene_var > threshold_var, :].T)\n",
    "mega = torch.cat((SNP, depth), 1)"
   ]
  },
  {
   "cell_type": "code",
   "execution_count": null,
   "id": "6d934993",
   "metadata": {},
   "outputs": [],
   "source": [
    "# This code reads donor labels and doublets of VireoSNP dataset by Vireo\n",
    "\n",
    "import pandas as pd\n",
    "\n",
    "df = pd.read_csv('id.tsv', sep = '\\t').iloc[:, 1]\n",
    "\n",
    "donor1 = []\n",
    "donor2 = []\n",
    "donor3 = []\n",
    "donor4 = []\n",
    "doublet = []\n",
    "\n",
    "for n in range(len(df)):\n",
    "    \n",
    "    if df[n] == \"MantonCB1\":\n",
    "        \n",
    "        donor1 += [n]\n",
    "        \n",
    "    elif df[n] == \"MantonCB2\":\n",
    "        \n",
    "        donor2 += [n] \n",
    "        \n",
    "    elif df[n] == \"MantonCB3\":\n",
    "        \n",
    "        donor3 += [n] \n",
    "        \n",
    "    elif df[n] == \"MantonCB4\":\n",
    "        \n",
    "        donor4 += [n] \n",
    "        \n",
    "    elif df[n] == \"doublet\":\n",
    "        \n",
    "        doublet += [n] \n",
    "        \n",
    "donors = [donor1, donor2, donor3, donor4]"
   ]
  }
 ],
 "metadata": {
  "kernelspec": {
   "display_name": "Python 3",
   "language": "python",
   "name": "python3"
  },
  "language_info": {
   "codemirror_mode": {
    "name": "ipython",
    "version": 3
   },
   "file_extension": ".py",
   "mimetype": "text/x-python",
   "name": "python",
   "nbconvert_exporter": "python",
   "pygments_lexer": "ipython3",
   "version": "3.8.5"
  }
 },
 "nbformat": 4,
 "nbformat_minor": 5
}
