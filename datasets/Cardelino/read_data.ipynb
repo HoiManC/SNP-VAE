{
 "cells": [
  {
   "cell_type": "code",
   "execution_count": null,
   "id": "14331b07",
   "metadata": {},
   "outputs": [],
   "source": [
    "# This code reads AD matrix and DP matrix for inputs of VAE and visualization of Cardelino dataset\n",
    "\n",
    "import torch\n",
    "import numpy as np\n",
    "\n",
    "import vireoSNP\n",
    "cell_vcf = vireoSNP.load_VCF(\"cellSNP.cells.vcf.gz\", biallelic_only = True)\n",
    "cell_dat = vireoSNP.vcf.read_sparse_GeneINFO(cell_vcf['GenoINFO'], keys = ['AD', 'DP'])\n",
    "AD = cell_dat['AD']\n",
    "DP = cell_dat['DP']\n",
    "\n",
    "threshold_var = 0\n",
    "SNP = AD / DP\n",
    "\n",
    "mean_matrix = np.outer(np.nanmean(SNP, 1), np.ones(SNP.shape[1]))\n",
    "nan = np.isnan(SNP)\n",
    "SNP[nan] = mean_matrix[nan]\n",
    "SNP = torch.tensor(SNP.T).float()\n",
    "\n",
    "gene_var = torch.var(torch.logit(SNP, eps = 0.01), 0).numpy()\n",
    "SNP = SNP[:, gene_var > threshold_var]\n",
    "depth = torch.tensor(DP.todense()[gene_var > threshold_var, :].T)"
   ]
  },
  {
   "cell_type": "code",
   "execution_count": null,
   "id": "2855ab26",
   "metadata": {},
   "outputs": [],
   "source": [
    "# This code reads clone labels of Cardelino dataset (2 clones) by Vireo\n",
    "\n",
    "df = np.genfromtxt(\"id_2clone.csv\", delimiter = \",\")\n",
    "donor1 = list(np.where(df == 0)[0])\n",
    "donor2 = list(np.where(df == 1)[0])\n",
    "donors = [donor1, donor2]"
   ]
  },
  {
   "cell_type": "code",
   "execution_count": null,
   "id": "834d7e69",
   "metadata": {},
   "outputs": [],
   "source": [
    "# This code reads clone labels of Cardelino dataset (3 clones) by Vireo\n",
    "\n",
    "df = np.genfromtxt(\"id_3clone.csv\", delimiter = \",\")\n",
    "donor1 = list(np.where(df == 0)[0])\n",
    "donor2 = list(np.where(df == 1)[0])\n",
    "donor3 = list(np.where(df == 2)[0])\n",
    "donors = [donor1, donor2, donor3]"
   ]
  }
 ],
 "metadata": {
  "kernelspec": {
   "display_name": "Python 3",
   "language": "python",
   "name": "python3"
  },
  "language_info": {
   "codemirror_mode": {
    "name": "ipython",
    "version": 3
   },
   "file_extension": ".py",
   "mimetype": "text/x-python",
   "name": "python",
   "nbconvert_exporter": "python",
   "pygments_lexer": "ipython3",
   "version": "3.8.5"
  }
 },
 "nbformat": 4,
 "nbformat_minor": 5
}
