{
 "cells": [
  {
   "cell_type": "code",
   "execution_count": null,
   "id": "c954d30e",
   "metadata": {},
   "outputs": [],
   "source": [
    "# This code reads AD matrix and DP matrix for inputs of VAE and visualization of Demuxlet dataset\n",
    "\n",
    "import torch\n",
    "import numpy as np\n",
    "\n",
    "from scipy.io import mmread\n",
    "AD = mmread(\"cellSNP.tag.AD.mtx\")\n",
    "DP = mmread(\"cellSNP.tag.DP.mtx\")\n",
    "\n",
    "threshold_var = 0.5\n",
    "SNP = AD / DP\n",
    "\n",
    "mean_matrix = np.outer(np.nanmean(SNP, 1), np.ones(SNP.shape[1]))\n",
    "nan = np.isnan(SNP)\n",
    "SNP[nan] = mean_matrix[nan]\n",
    "SNP = torch.tensor(SNP.T).float()\n",
    "\n",
    "gene_var = torch.var(torch.logit(SNP, eps = 0.01), 0).numpy()\n",
    "SNP = SNP[:, gene_var > threshold_var]\n",
    "depth = torch.tensor(DP.todense()[gene_var > threshold_var, :].T)"
   ]
  },
  {
   "cell_type": "code",
   "execution_count": null,
   "id": "d3770dc1",
   "metadata": {},
   "outputs": [],
   "source": [
    "# This code reads donor labels and doublets of Demuxlet dataset by Vireo\n",
    "\n",
    "df = np.genfromtxt('id.csv', delimiter = ',')\n",
    "doublet_read = np.genfromtxt('doublet.csv', delimiter = ',')\n",
    "\n",
    "donors = []\n",
    "\n",
    "for n in range(len(df)):\n",
    "    \n",
    "    assigned = list(np.where(df == n)[0])\n",
    "    \n",
    "    for g in assigned:\n",
    "        \n",
    "        if g in np.where(doublet_read == 1)[0]:\n",
    "            \n",
    "            assigned.remove(g)\n",
    "    \n",
    "    donors.append(assigned)\n",
    "    \n",
    "doublet = np.where(doublet_read == 1)[0]"
   ]
  }
 ],
 "metadata": {
  "kernelspec": {
   "display_name": "Python 3",
   "language": "python",
   "name": "python3"
  },
  "language_info": {
   "codemirror_mode": {
    "name": "ipython",
    "version": 3
   },
   "file_extension": ".py",
   "mimetype": "text/x-python",
   "name": "python",
   "nbconvert_exporter": "python",
   "pygments_lexer": "ipython3",
   "version": "3.8.5"
  }
 },
 "nbformat": 4,
 "nbformat_minor": 5
}
