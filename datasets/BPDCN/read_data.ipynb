{
 "cells": [
  {
   "cell_type": "code",
   "execution_count": null,
   "id": "b7b80883",
   "metadata": {},
   "outputs": [],
   "source": [
    "# This code reads AD matrix and DP matrix for inputs of VAE and visualization of BPDCN dataset\n",
    "\n",
    "import torch\n",
    "import numpy as np\n",
    "\n",
    "from scipy.io import mmread\n",
    "AD = mmread('cellSNP.tag.AD.mtx')\n",
    "DP = mmread('cellSNP.tag.DP.mtx')\n",
    "\n",
    "threshold_var = 1\n",
    "SNP = AD / DP\n",
    "\n",
    "mean_matrix = np.outer(np.nanmean(SNP, 1), np.ones(SNP.shape[1]))\n",
    "nan = np.isnan(SNP)\n",
    "SNP[nan] = mean_matrix[nan]\n",
    "SNP = torch.tensor(SNP.T).float()\n",
    "\n",
    "allgene_var = torch.var(torch.logit(SNP, eps = 0.01), 0).numpy()\n",
    "SNP = SNP[:, allgene_var > threshold_var]\n",
    "depth = torch.tensor(DP.todense()[allgene_var > threshold_var, :].T)"
   ]
  },
  {
   "cell_type": "code",
   "execution_count": null,
   "id": "64ba2111",
   "metadata": {},
   "outputs": [],
   "source": [
    "# This code reads VCF file of BPDCN dataset\n",
    "\n",
    "import io\n",
    "import os\n",
    "import pandas as pd\n",
    "\n",
    "def read_vcf(path):\n",
    "    \n",
    "    with open(path, 'r') as f:\n",
    "        lines = [l for l in f if not l.startswith('##')]\n",
    "        \n",
    "    return pd.read_csv(\n",
    "        io.StringIO(''.join(lines)),\n",
    "        dtype={'#CHROM': str, 'POS': int, 'ID': str, 'REF': str, 'ALT': str,\n",
    "               'QUAL': str, 'FILTER': str, 'INFO': str},\n",
    "        sep='\\t'\n",
    "    ).rename(columns={'#CHROM': 'CHROM'})\n",
    "\n",
    "information = read_vcf(\"cellSNP.base.vcf\")"
   ]
  }
 ],
 "metadata": {
  "kernelspec": {
   "display_name": "Python 3",
   "language": "python",
   "name": "python3"
  },
  "language_info": {
   "codemirror_mode": {
    "name": "ipython",
    "version": 3
   },
   "file_extension": ".py",
   "mimetype": "text/x-python",
   "name": "python",
   "nbconvert_exporter": "python",
   "pygments_lexer": "ipython3",
   "version": "3.8.5"
  }
 },
 "nbformat": 4,
 "nbformat_minor": 5
}
