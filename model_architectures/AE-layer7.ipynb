{
 "cells": [
  {
   "cell_type": "code",
   "execution_count": null,
   "id": "e675dd2a",
   "metadata": {},
   "outputs": [],
   "source": [
    "# Autoencoder with 7 hidden layers\n",
    "\n",
    "import torch.nn as nn\n",
    "\n",
    "class AE(nn.Module):\n",
    "    \n",
    "    def __init__(self, obs_dim, z_dim1, z_dim2, z_dim3, z_dim4):\n",
    "        \n",
    "        super(AE, self).__init__()\n",
    "        self.fc1 = nn.Linear(obs_dim, z_dim1)\n",
    "        self.fc2 = nn.Linear(z_dim1, z_dim2)\n",
    "        self.fc3 = nn.Linear(z_dim2, z_dim3)\n",
    "        self.fc4 = nn.Linear(z_dim3, z_dim4)\n",
    "        self.fc5 = nn.Linear(z_dim4, z_dim3)\n",
    "        self.fc6 = nn.Linear(z_dim3, z_dim2)\n",
    "        self.fc7 = nn.Linear(z_dim2, z_dim1)\n",
    "        self.fc8 = nn.Linear(z_dim1, obs_dim)\n",
    "        \n",
    "    def encode(self, x):\n",
    "        \n",
    "        return self.fc4(torch.logit(self.fc3(torch.logit(self.fc2(torch.logit(self.fc1(torch.logit(x, eps = 0.01)), eps = 0.01)), eps = 0.01)), eps = 0.01))\n",
    "        # return self.fc1(x)\n",
    "\n",
    "    def decode(self, z):\n",
    "        \n",
    "        return torch.sigmoid(self.fc8(torch.sigmoid(self.fc7(torch.sigmoid(self.fc6(torch.sigmoid(self.fc5(z))))))))\n",
    "    \n",
    "    def forward(self, x):\n",
    "        \n",
    "        z = self.encode(x)\n",
    "        x_reconst_mu = self.decode(z)\n",
    "        \n",
    "        return x_reconst_mu, z"
   ]
  },
  {
   "cell_type": "code",
   "execution_count": null,
   "id": "e5dd8fae",
   "metadata": {},
   "outputs": [],
   "source": [
    "# Hyperparameters\n",
    "\n",
    "from torch.utils.data import DataLoader\n",
    "\n",
    "obs_dim = SNP.shape[1]\n",
    "z_dim1 = 350\n",
    "z_dim2 = 300\n",
    "z_dim3 = 250\n",
    "z_dim4 = 200\n",
    "learning_rate = 0.0005\n",
    "batch_size = SNP.shape[0]\n",
    "num_epochs = 1000\n",
    "loss_fn = nn.BCELoss(reduction = 'none')\n",
    "data_loader = DataLoader(mega, batch_size)"
   ]
  },
  {
   "cell_type": "code",
   "execution_count": null,
   "id": "6824939a",
   "metadata": {},
   "outputs": [],
   "source": [
    "# Training\n",
    "\n",
    "import time\n",
    "\n",
    "start_time = time.time()\n",
    "model = AE(obs_dim, z_dim1, z_dim2, z_dim3, z_dim4)\n",
    "optimizer = torch.optim.Adam(model.parameters(), lr = learning_rate)\n",
    "cost_training = np.empty(num_epochs)\n",
    "\n",
    "for epoch in range(num_epochs):\n",
    "\n",
    "    for batch, x in enumerate(data_loader):\n",
    "\n",
    "        x_reconst_mu, mu = model(x[:, : SNP.shape[1]])\n",
    "        loss = torch.mean(loss_fn(x_reconst_mu, x[:, : SNP.shape[1]]) * x[:, SNP.shape[1] : ])\n",
    "\n",
    "        optimizer.zero_grad()\n",
    "        loss.backward()\n",
    "        optimizer.step()\n",
    "        \n",
    "    x_reconst_mu, mu = model(mega[:, : SNP.shape[1]])    \n",
    "    cost_training[epoch] = torch.mean(loss_fn(x_reconst_mu, mega[:, : SNP.shape[1]]) * mega[:, SNP.shape[1] : ])\n",
    "\n",
    "end_time = time.time()\n",
    "latent = model.encode(SNP).detach()"
   ]
  }
 ],
 "metadata": {
  "kernelspec": {
   "display_name": "Python 3",
   "language": "python",
   "name": "python3"
  },
  "language_info": {
   "codemirror_mode": {
    "name": "ipython",
    "version": 3
   },
   "file_extension": ".py",
   "mimetype": "text/x-python",
   "name": "python",
   "nbconvert_exporter": "python",
   "pygments_lexer": "ipython3",
   "version": "3.8.5"
  }
 },
 "nbformat": 4,
 "nbformat_minor": 5
}
