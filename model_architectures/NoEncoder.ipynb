{
 "cells": [
  {
   "cell_type": "code",
   "execution_count": null,
   "id": "2ba6ae4b",
   "metadata": {},
   "outputs": [],
   "source": [
    "# No encoder\n",
    "\n",
    "import jax.numpy as jnp\n",
    "import jax\n",
    "\n",
    "SNP_train = SNP.numpy()\n",
    "DP_train = depth.numpy()\n",
    "\n",
    "def sigmoid(x):\n",
    "    \n",
    "    return  1 / (1 + jnp.exp(- x))\n",
    "\n",
    "@jax.jit\n",
    "\n",
    "def binomial_cost(combined):\n",
    "    \n",
    "    component = jnp.hstack((combined[: SNP.shape[0], : -1], np.ones((SNP.shape[0], 1))))\n",
    "    loading = combined[SNP.shape[0]: , :].T\n",
    "    reconstruct = sigmoid(jnp.matmul(component, loading))\n",
    "    \n",
    "    return - jnp.mean((SNP_train * jnp.clip(jnp.log(reconstruct), -100, None) + (1 - SNP_train) * jnp.clip(jnp.log(1 - reconstruct), -100, None)) * DP_train)"
   ]
  },
  {
   "cell_type": "code",
   "execution_count": null,
   "id": "791e5932",
   "metadata": {},
   "outputs": [],
   "source": [
    "# Training\n",
    "\n",
    "from sklearn.decomposition import PCA\n",
    "import optax\n",
    "\n",
    "adam = optax.adam(learning_rate = 0.0005)\n",
    "z_dim = 200\n",
    "\n",
    "def no_encoder(combined, opt_fn, opt_state, steps = 1000):  \n",
    "\n",
    "    losses = []\n",
    "    \n",
    "    for _ in range(steps):\n",
    "        \n",
    "        loss, grads = jax.value_and_grad(binomial_cost)(combined)\n",
    "        updates, opt_state = opt_fn(grads, opt_state)\n",
    "        combined += updates\n",
    "        losses.append(loss)\n",
    "\n",
    "    return jnp.stack(losses), combined, opt_state\n",
    "\n",
    "pca = PCA(n_components = z_dim)\n",
    "pca.fit(np.clip(np.log(SNP_train / (1 - SNP_train)), - 4.5951, 4.5951))\n",
    "component_train = np.hstack((pca.transform(np.clip(np.log(SNP_train / (1 - SNP_train)), - 4.5951, 4.5951)), np.ones((SNP.shape[0], 1))))\n",
    "loading_train = np.vstack((pca.components_, pca.mean_))\n",
    "combined = jnp.vstack((component_train, loading_train.T))\n",
    "\n",
    "cost_training, combined, opt_state = quadratic_task(combined, opt_fn = adam.update, opt_state = adam.init(combined))\n",
    "latent = combined[: SNP.shape[0], : -1]"
   ]
  }
 ],
 "metadata": {
  "kernelspec": {
   "display_name": "Python 3",
   "language": "python",
   "name": "python3"
  },
  "language_info": {
   "codemirror_mode": {
    "name": "ipython",
    "version": 3
   },
   "file_extension": ".py",
   "mimetype": "text/x-python",
   "name": "python",
   "nbconvert_exporter": "python",
   "pygments_lexer": "ipython3",
   "version": "3.8.5"
  }
 },
 "nbformat": 4,
 "nbformat_minor": 5
}
