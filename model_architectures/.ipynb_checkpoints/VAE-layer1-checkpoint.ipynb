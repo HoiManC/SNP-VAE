{
 "cells": [
  {
   "cell_type": "code",
   "execution_count": null,
   "id": "68630250",
   "metadata": {},
   "outputs": [],
   "source": [
    "# Variational autoencoder with 1 hidden layer\n",
    "\n",
    "class VAE(nn.Module):\n",
    "    \n",
    "    def __init__(self, obs_dim, z_dim):\n",
    "        \n",
    "        super(AE, self).__init__()\n",
    "        self.fc1 = nn.Linear(obs_dim, z_dim)\n",
    "        self.fc2 = nn.Linear(obs_dim, z_dim)\n",
    "        self.fc3 = nn.Linear(z_dim, obs_dim)\n",
    "        \n",
    "    def encode(self, x):\n",
    "        \n",
    "        return self.fc1(torch.logit(x, eps = 0.01)), self.fc2(torch.logit(x, eps = 0.01))\n",
    "    \n",
    "    def reparameterize(self, mu, log_var):\n",
    "        \n",
    "        std = torch.exp(log_var / 2)\n",
    "        eps = torch.randn_like(std)\n",
    "        \n",
    "        return mu + eps * std\n",
    "\n",
    "    def decode(self, z):\n",
    "        \n",
    "        return torch.sigmoid(self.fc3(z))\n",
    "    \n",
    "    def forward(self, x):\n",
    "    \n",
    "        mu, log_var = self.encode(x)\n",
    "        z = self.reparameterize(mu, log_var)\n",
    "        x_reconst_mu = self.decode(z)\n",
    "        \n",
    "        return x_reconst_mu, mu, log_var"
   ]
  },
  {
   "cell_type": "code",
   "execution_count": null,
   "id": "542fa10a",
   "metadata": {},
   "outputs": [],
   "source": [
    "# Hyperparameters\n",
    "\n",
    "from torch.utils.data import DataLoader\n",
    "\n",
    "obs_dim = SNP.shape[1]\n",
    "z_dim = 200\n",
    "beta = 0.5\n",
    "learning_rate = 0.0005\n",
    "batch_size = SNP.shape[0]\n",
    "num_epochs = 1000\n",
    "loss_fn = nn.BCELoss(reduction = 'none')\n",
    "data_loader = DataLoader(mega, batch_size)"
   ]
  },
  {
   "cell_type": "code",
   "execution_count": null,
   "id": "72dee595",
   "metadata": {},
   "outputs": [],
   "source": [
    "# Training\n",
    "\n",
    "import time\n",
    "\n",
    "start_time = time.time()\n",
    "model = VAE(obs_dim, z_dim)\n",
    "optimizer = torch.optim.Adam(model.parameters(), lr = learning_rate)\n",
    "cost_recon = np.empty(num_epochs)\n",
    "cost_div = np.empty(num_epochs)\n",
    "\n",
    "for epoch in range(num_epochs):\n",
    "\n",
    "    for batch, x in enumerate(data_loader):\n",
    "\n",
    "        x_reconst_mu, mu, log_var = model(x[:, : SNP.shape[1]])\n",
    "        kl_div = - 0.5 * torch.mean(1 + log_var - mu.pow(2) - log_var.exp())\n",
    "        recon_loss = torch.mean(loss_fn(x_reconst_mu, x[:, : SNP.shape[1]]) * x[:, SNP.shape[1] : ])\n",
    "        loss = recon_loss + beta * kl_div\n",
    "\n",
    "        optimizer.zero_grad()\n",
    "        loss.backward()\n",
    "        optimizer.step()\n",
    "        \n",
    "    x_reconst_mu, mu, log_var = model(mega[:, : SNP.shape[1]])    \n",
    "    cost_div[epoch] = - 0.5 * torch.mean(1 + log_var - mu.pow(2) - log_var.exp())\n",
    "    cost_recon[epoch] = torch.mean(loss_fn(x_reconst_mu, mega[:, : SNP.shape[1]]) * mega[:, SNP.shape[1] : ])\n",
    "    \n",
    "end_time = time.time()\n",
    "latent = model.encode(SNP)[0].detach()"
   ]
  }
 ],
 "metadata": {
  "kernelspec": {
   "display_name": "Python 3",
   "language": "python",
   "name": "python3"
  },
  "language_info": {
   "codemirror_mode": {
    "name": "ipython",
    "version": 3
   },
   "file_extension": ".py",
   "mimetype": "text/x-python",
   "name": "python",
   "nbconvert_exporter": "python",
   "pygments_lexer": "ipython3",
   "version": "3.8.5"
  }
 },
 "nbformat": 4,
 "nbformat_minor": 5
}
